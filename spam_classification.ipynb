{
  "nbformat": 4,
  "nbformat_minor": 0,
  "metadata": {
    "colab": {
      "provenance": [],
      "authorship_tag": "ABX9TyNonOE2V+mBFSYY62pl3Q92",
      "include_colab_link": true
    },
    "kernelspec": {
      "name": "python3",
      "display_name": "Python 3"
    },
    "language_info": {
      "name": "python"
    }
  },
  "cells": [
    {
      "cell_type": "markdown",
      "metadata": {
        "id": "view-in-github",
        "colab_type": "text"
      },
      "source": [
        "<a href=\"https://colab.research.google.com/github/aditiverma18/spam_classification/blob/main/spam_classification.ipynb\" target=\"_parent\"><img src=\"https://colab.research.google.com/assets/colab-badge.svg\" alt=\"Open In Colab\"/></a>"
      ]
    },
    {
      "cell_type": "code",
      "execution_count": 3,
      "metadata": {
        "colab": {
          "base_uri": "https://localhost:8080/"
        },
        "id": "-hn4NymeuRGA",
        "outputId": "9e4ffaaa-8b9e-4667-eb49-42fe185d075b"
      },
      "outputs": [
        {
          "output_type": "stream",
          "name": "stdout",
          "text": [
            "     v1                                                 v2 Unnamed: 2  \\\n",
            "0   ham  Go until jurong point, crazy.. Available only ...        NaN   \n",
            "1   ham                      Ok lar... Joking wif u oni...        NaN   \n",
            "2  spam  Free entry in 2 a wkly comp to win FA Cup fina...        NaN   \n",
            "3   ham  U dun say so early hor... U c already then say...        NaN   \n",
            "4   ham  Nah I don't think he goes to usf, he lives aro...        NaN   \n",
            "\n",
            "  Unnamed: 3 Unnamed: 4  \n",
            "0        NaN        NaN  \n",
            "1        NaN        NaN  \n",
            "2        NaN        NaN  \n",
            "3        NaN        NaN  \n",
            "4        NaN        NaN  \n"
          ]
        }
      ],
      "source": [
        "import numpy as np\n",
        "import pandas as pd\n",
        "\n",
        "df=pd.read_csv('spam.zip',encoding='latin-1')\n",
        "\n",
        "print(df.head())"
      ]
    },
    {
      "cell_type": "code",
      "source": [
        "cols=df.columns[:2]\n",
        "data=df[cols]\n",
        "print(data.shape)"
      ],
      "metadata": {
        "colab": {
          "base_uri": "https://localhost:8080/"
        },
        "id": "ulmWQmchu50d",
        "outputId": "d79b77da-e27e-4a5a-f317-d969663a3544"
      },
      "execution_count": 4,
      "outputs": [
        {
          "output_type": "stream",
          "name": "stdout",
          "text": [
            "(5572, 2)\n"
          ]
        }
      ]
    },
    {
      "cell_type": "code",
      "source": [
        "data=data.rename(columns={'v1':'Value','v2':'Text'})\n",
        "print(data.head())\n",
        "print(data.Value.value_counts())"
      ],
      "metadata": {
        "colab": {
          "base_uri": "https://localhost:8080/"
        },
        "id": "e-gLi5GMvFc0",
        "outputId": "2726ac3f-04fa-45bc-9b34-a210c169ae1c"
      },
      "execution_count": 5,
      "outputs": [
        {
          "output_type": "stream",
          "name": "stdout",
          "text": [
            "  Value                                               Text\n",
            "0   ham  Go until jurong point, crazy.. Available only ...\n",
            "1   ham                      Ok lar... Joking wif u oni...\n",
            "2  spam  Free entry in 2 a wkly comp to win FA Cup fina...\n",
            "3   ham  U dun say so early hor... U c already then say...\n",
            "4   ham  Nah I don't think he goes to usf, he lives aro...\n",
            "Value\n",
            "ham     4825\n",
            "spam     747\n",
            "Name: count, dtype: int64\n"
          ]
        }
      ]
    },
    {
      "cell_type": "code",
      "source": [
        "from string import punctuation\n",
        "import re\n",
        "import nltk\n",
        "nltk.download('punkt_tab')\n",
        "nltk.download('words')\n",
        "from nltk import wordpunct_tokenize\n",
        "\n",
        "punctuation=list(punctuation)\n",
        "\n",
        "data[\"Punctuations\"]=data[\"Text\"].apply(lambda x:len(re.findall(r\"[^\\w+&&^\\s]\",x)))\n",
        "\n",
        "data[\"Phonenumbers\"] = data[\"Text\"].apply(lambda x: len(re.findall(r\"[0-9]{10}\",x)))\n",
        "\n",
        "is_link = lambda x: 1 if re.search(r\"https?://(?:[-\\w.]|(?:%[\\da-fA-F]{2}))+\",x)!=None else 0\n",
        "data[\"Links\"] = data[\"Text\"].apply(is_link)\n",
        "\n",
        "\n",
        "count_upper = lambda x : list(map(str.isupper,x.split())).count(True)\n",
        "upper_case = lambda y,n : n+1 if y.isupper() else n\n",
        "data[\"Uppercase\"] = data[\"Text\"].apply(count_upper)\n",
        "\n",
        "english_vocab_set=set(w.lower() for w in nltk.corpus.words.words())\n",
        "\n",
        "def unusual_words(text):\n",
        "    words = wordpunct_tokenize(text)\n",
        "    text_vocab_set = set(w.lower() for w in words if w.isalpha())\n",
        "    unusual_words_set = text_vocab_set - english_vocab_set\n",
        "    return len(unusual_words_set)\n",
        "data[\"unusualwords\"]=data[\"Text\"].apply(lambda x:unusual_words((x)))\n",
        "\n",
        "print(data[13:25])"
      ],
      "metadata": {
        "colab": {
          "base_uri": "https://localhost:8080/"
        },
        "id": "7llvs6oCvXwb",
        "outputId": "b7a4f574-8bc5-4cc8-dc96-d1bb2990acea"
      },
      "execution_count": 6,
      "outputs": [
        {
          "output_type": "stream",
          "name": "stderr",
          "text": [
            "[nltk_data] Downloading package punkt_tab to /root/nltk_data...\n",
            "[nltk_data]   Unzipping tokenizers/punkt_tab.zip.\n",
            "[nltk_data] Downloading package words to /root/nltk_data...\n",
            "[nltk_data]   Unzipping corpora/words.zip.\n",
            "/tmp/ipython-input-6-655865756.py:10: FutureWarning: Possible set intersection at position 5\n",
            "  data[\"Punctuations\"]=data[\"Text\"].apply(lambda x:len(re.findall(r\"[^\\w+&&^\\s]\",x)))\n"
          ]
        },
        {
          "output_type": "stream",
          "name": "stdout",
          "text": [
            "   Value                                               Text  Punctuations  \\\n",
            "13   ham  I've been searching for the right words to tha...             4   \n",
            "14   ham                I HAVE A DATE ON SUNDAY WITH WILL!!             2   \n",
            "15  spam  XXXMobileMovieClub: To use your credit, click ...            11   \n",
            "16   ham                         Oh k...i'm watching here:)             6   \n",
            "17   ham  Eh u remember how 2 spell his name... Yes i di...             5   \n",
            "18   ham  Fine if thatåÕs the way u feel. ThatåÕs the wa...             1   \n",
            "19  spam  England v Macedonia - dont miss the goals/team...             7   \n",
            "20   ham          Is that seriously how you spell his name?             1   \n",
            "21   ham  IÛ÷m going to try for 2 months ha ha only joking             2   \n",
            "22   ham  So Ì_ pay first lar... Then when is da stock c...             6   \n",
            "23   ham  Aft i finish my lunch then i go str down lor. ...             3   \n",
            "24   ham  Ffffffffff. Alright no way I can meet up with ...             2   \n",
            "\n",
            "    Phonenumbers  Links  Uppercase  unusualwords  \n",
            "13             0      0          1             4  \n",
            "14             0      0          8             0  \n",
            "15             0      1          1             5  \n",
            "16             0      0          0             0  \n",
            "17             0      0          0             0  \n",
            "18             0      0          0             2  \n",
            "19             0      0          2             7  \n",
            "20             0      0          0             0  \n",
            "21             0      0          0             3  \n",
            "22             0      0          1             1  \n",
            "23             0      0          1             4  \n",
            "24             0      0          1             1  \n"
          ]
        }
      ]
    },
    {
      "cell_type": "code",
      "source": [
        "from sklearn.feature_extraction.text import TfidfVectorizer\n",
        "tf_idf=TfidfVectorizer(stop_words=\"english\",strip_accents='ascii',max_features=300)\n",
        "tf_idf_matrix=tf_idf.fit_transform(data[\"Text\"])"
      ],
      "metadata": {
        "id": "w7SsbjeI2Sa1"
      },
      "execution_count": 7,
      "outputs": []
    },
    {
      "cell_type": "code",
      "source": [
        "data_extra_features=pd.concat([data,pd.DataFrame(tf_idf_matrix.toarray(),columns=tf_idf.get_feature_names_out())],axis=1)"
      ],
      "metadata": {
        "id": "8uFs3VHW3DNN"
      },
      "execution_count": 8,
      "outputs": []
    },
    {
      "cell_type": "code",
      "source": [
        "from sklearn.model_selection import train_test_split\n",
        "X=data_extra_features\n",
        "features=X.columns.drop([\"Value\",\"Text\"])\n",
        "target=[\"Value\"]\n",
        "X_train,X_test,y_train,y_test=train_test_split(X[features],X[target])"
      ],
      "metadata": {
        "id": "iTVNk9an38Na"
      },
      "execution_count": 9,
      "outputs": []
    },
    {
      "cell_type": "code",
      "source": [
        "from sklearn.tree import DecisionTreeClassifier\n",
        "from sklearn.metrics import accuracy_score\n",
        "dt = DecisionTreeClassifier(min_samples_split=40)\n",
        "dt.fit(X_train,y_train)\n",
        "pred = dt.predict(X_test)\n",
        "print(accuracy_score(y_train, dt.predict(X_train)))\n",
        "print(accuracy_score(y_test, pred))\n"
      ],
      "metadata": {
        "colab": {
          "base_uri": "https://localhost:8080/"
        },
        "id": "IWEgYpxu5__b",
        "outputId": "05da2bee-a420-449d-ed06-a12a32a5ecee"
      },
      "execution_count": 10,
      "outputs": [
        {
          "output_type": "stream",
          "name": "stdout",
          "text": [
            "0.9870782483847811\n",
            "0.9734386216798278\n"
          ]
        }
      ]
    },
    {
      "cell_type": "code",
      "source": [
        "from sklearn.naive_bayes import MultinomialNB\n",
        "from sklearn.linear_model import LogisticRegression\n",
        "from sklearn.metrics import accuracy_score\n",
        "\n",
        "\n",
        "\n",
        "# Building a Naive Bayes Model\n",
        "mnb = MultinomialNB()\n",
        "mnb.fit(X_train,y_train)\n",
        "pred_mnb = mnb.predict(X_test)\n",
        "print(accuracy_score(y_test, pred_mnb))\n",
        "\n",
        "\n",
        "# Building a Logistic Regression Model\n",
        "lr = LogisticRegression()\n",
        "lr.fit(X_train,y_train)\n",
        "pred_lr = lr.predict(X_test)\n",
        "print(accuracy_score(y_test, pred_lr))\n"
      ],
      "metadata": {
        "colab": {
          "base_uri": "https://localhost:8080/"
        },
        "id": "4ldQSMRD6D0n",
        "outputId": "19c20642-83ef-4c47-e94b-f9cdc2fdf288"
      },
      "execution_count": 11,
      "outputs": [
        {
          "output_type": "stream",
          "name": "stdout",
          "text": [
            "0.9698492462311558\n"
          ]
        },
        {
          "output_type": "stream",
          "name": "stderr",
          "text": [
            "/usr/local/lib/python3.11/dist-packages/sklearn/utils/validation.py:1408: DataConversionWarning: A column-vector y was passed when a 1d array was expected. Please change the shape of y to (n_samples, ), for example using ravel().\n",
            "  y = column_or_1d(y, warn=True)\n",
            "/usr/local/lib/python3.11/dist-packages/sklearn/utils/validation.py:1408: DataConversionWarning: A column-vector y was passed when a 1d array was expected. Please change the shape of y to (n_samples, ), for example using ravel().\n",
            "  y = column_or_1d(y, warn=True)\n"
          ]
        },
        {
          "output_type": "stream",
          "name": "stdout",
          "text": [
            "0.9791816223977028\n"
          ]
        },
        {
          "output_type": "stream",
          "name": "stderr",
          "text": [
            "/usr/local/lib/python3.11/dist-packages/sklearn/linear_model/_logistic.py:465: ConvergenceWarning: lbfgs failed to converge (status=1):\n",
            "STOP: TOTAL NO. OF ITERATIONS REACHED LIMIT.\n",
            "\n",
            "Increase the number of iterations (max_iter) or scale the data as shown in:\n",
            "    https://scikit-learn.org/stable/modules/preprocessing.html\n",
            "Please also refer to the documentation for alternative solver options:\n",
            "    https://scikit-learn.org/stable/modules/linear_model.html#logistic-regression\n",
            "  n_iter_i = _check_optimize_result(\n"
          ]
        }
      ]
    },
    {
      "cell_type": "code",
      "source": [
        "import pickle\n",
        "\n",
        "with open(\"spam_model.pkl\", \"wb\") as f:\n",
        "    pickle.dump(lr, f)\n",
        "\n",
        "with open(\"vectorizer.pkl\", \"wb\") as f:\n",
        "    pickle.dump(tf_idf, f)"
      ],
      "metadata": {
        "id": "ysy7yUyHq_G9"
      },
      "execution_count": 12,
      "outputs": []
    }
  ]
}